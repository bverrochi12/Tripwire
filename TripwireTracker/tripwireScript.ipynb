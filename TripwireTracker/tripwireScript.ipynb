{
 "cells": [
  {
   "cell_type": "code",
   "execution_count": null,
   "id": "14d010fb-3f1d-4dfb-bed8-4f373898bde3",
   "metadata": {},
   "outputs": [],
   "source": [
    "# Imort required libraries\n",
    "import os\n",
    "import pandas as pd\n",
    "from openpyxl import Workbook"
   ]
  },
  {
   "cell_type": "markdown",
   "id": "dd0da668-dacd-41a5-9628-a03736cfc58d",
   "metadata": {},
   "source": [
    "# Tripwire Tracker"
   ]
  },
  {
   "cell_type": "code",
   "execution_count": null,
   "id": "ae007530-9cb5-4418-88b3-7d4e3c9a3110",
   "metadata": {},
   "outputs": [],
   "source": [
    "# Access Onboarding Tracker location\n",
    "tracker_path = \"Onboarding_Tracker.xlsx\"\n",
    "\n",
    "# Specify the Tripwire Tracker sheet name in the Onboarding Tracker\n",
    "tracker_sheet_name = 'Tripwire Tracker'"
   ]
  },
  {
   "cell_type": "code",
   "execution_count": null,
   "id": "d4f5489c-92fb-4e1a-b858-c591f4a50d2a",
   "metadata": {},
   "outputs": [],
   "source": [
    "# Read the Excel file into a Pandas DataFrame\n",
    "tripwire_df = pd.read_excel(tracker_path, sheet_name=tracker_sheet_name)"
   ]
  },
  {
   "cell_type": "code",
   "execution_count": null,
   "id": "405c5645-1718-4d23-ab36-b804bc0b4a93",
   "metadata": {},
   "outputs": [],
   "source": [
    "# Set the header row as the column names\n",
    "tripwire_df.columns = tripwire_df.iloc[4]\n",
    "\n",
    "# Drop the first 5 rows (including the header row)\n",
    "tripwire_df = tripwire_df[5:]\n",
    "\n",
    "# Reset the index\n",
    "tripwire_df.reset_index(drop=True, inplace=True)"
   ]
  },
  {
   "cell_type": "code",
   "execution_count": null,
   "id": "c8d6fec1-840d-42c2-9728-7ed40fd8b094",
   "metadata": {},
   "outputs": [],
   "source": [
    "# Select specific columns from the DataFrame\n",
    "tripwire_df = tripwire_df[[\"Employee Name\", \"SES Y/N - recommend allowing to exceed tripwire\"]]"
   ]
  },
  {
   "cell_type": "markdown",
   "id": "2c652864-45e0-45dd-a9f5-c77297042187",
   "metadata": {},
   "source": [
    "# Hourly Cost"
   ]
  },
  {
   "cell_type": "code",
   "execution_count": null,
   "id": "7f04c9e8-02c5-4d05-b000-5144f8fd1a52",
   "metadata": {},
   "outputs": [],
   "source": [
    "# Access hourly rate location\n",
    "hourly_cost_path = \"hourly_cost.xlsx\"\n",
    "\n",
    "# Specify the sheet name\n",
    "hourly_cost_sheet_name = 'Hourly Cost_TO29OY2_BVN0067'"
   ]
  },
  {
   "cell_type": "code",
   "execution_count": null,
   "id": "eac7af3d-e8e6-4930-97ca-f526236ab365",
   "metadata": {},
   "outputs": [],
   "source": [
    "# Read the Excel file into a Pandas DataFrame\n",
    "hourly_cost_df = pd.read_excel(hourly_cost_path, sheet_name=hourly_cost_sheet_name)"
   ]
  },
  {
   "cell_type": "code",
   "execution_count": null,
   "id": "c8aca5e6-3a88-4037-a494-9895d005ffe1",
   "metadata": {},
   "outputs": [],
   "source": [
    "# Set the header row as the column names\n",
    "hourly_cost_df.columns = hourly_cost_df.iloc[6]"
   ]
  },
  {
   "cell_type": "code",
   "execution_count": null,
   "id": "ff32e902-45c6-4074-97a2-2eac5476e09b",
   "metadata": {},
   "outputs": [],
   "source": [
    "# Drop the first 7 rows (including the header row)\n",
    "hourly_cost_df = hourly_cost_df[7:]\n",
    "\n",
    "# Reset the index\n",
    "hourly_cost_df.reset_index(drop=True, inplace=True)"
   ]
  },
  {
   "cell_type": "code",
   "execution_count": null,
   "id": "33643102-d9bd-465c-a50c-f357739dd8cd",
   "metadata": {},
   "outputs": [],
   "source": [
    "# Select specific columns from the DataFrame\n",
    "hourly_cost_df = hourly_cost_df[[\"Name\", \"PLC Desc\", \"Hourly Cost $/hr\", \"Above Tripwire Rate?\"]]\n",
    "hourly_cost_df"
   ]
  },
  {
   "cell_type": "markdown",
   "id": "9e90c936-399d-4cb7-b7a8-b332f09b8ace",
   "metadata": {},
   "source": [
    "# LCAT Normalization"
   ]
  },
  {
   "cell_type": "code",
   "execution_count": null,
   "id": "bb56e048-a57c-4d57-8db9-74e1b1dff633",
   "metadata": {},
   "outputs": [],
   "source": [
    "# Access Onboarding Tracker location\n",
    "lcat_path = \"Onboarding_Tracker.xlsx\"\n",
    "\n",
    "# Specify the LCAT Normalization sheet name in the Onboarding Tracker\n",
    "lcat_sheet_name = 'LCAT Normalization'"
   ]
  },
  {
   "cell_type": "code",
   "execution_count": null,
   "id": "5ab1f0c7-1bc3-478a-a92d-d5a2237f8ce2",
   "metadata": {},
   "outputs": [],
   "source": [
    "# Read the Excel file into a Pandas DataFrame\n",
    "lcat_df = pd.read_excel(lcat_path, sheet_name=lcat_sheet_name)"
   ]
  },
  {
   "cell_type": "code",
   "execution_count": null,
   "id": "74fcd382-2528-48c2-8999-5f978c00c40d",
   "metadata": {},
   "outputs": [],
   "source": [
    "lcat_df = lcat_df[[\"Vendor LCATs\",\"Correct LCAT Syntax\"]]\n",
    "lcat_df"
   ]
  },
  {
   "cell_type": "markdown",
   "id": "3491b41c-5c1a-40bd-896c-22c4245992b7",
   "metadata": {},
   "source": [
    "# Remove Middle Initials"
   ]
  },
  {
   "cell_type": "code",
   "execution_count": null,
   "id": "3c9f9970-2a84-4b6c-a464-a8502428886d",
   "metadata": {},
   "outputs": [],
   "source": [
    "# Remove middle initials from names in both DataFrames\n",
    "tripwire_df[\"Employee Name\"] = tripwire_df[\"Employee Name\"].str.replace(r' [A-Z]\\b', '', regex=True)\n",
    "hourly_cost_df[\"Name\"] = hourly_cost_df[\"Name\"].str.replace(r' [A-Z]\\b', '', regex=True)"
   ]
  },
  {
   "cell_type": "markdown",
   "id": "9e7d2ab1-56c8-4e9d-b636-5d3e3edc9503",
   "metadata": {},
   "source": [
    "# Filtering Data"
   ]
  },
  {
   "cell_type": "code",
   "execution_count": null,
   "id": "7d3c4d8a-5449-4f30-a29a-fcf978983e04",
   "metadata": {},
   "outputs": [],
   "source": [
    "# Find names in tripwire_df where \"SES Y/N - recommend allowing to exceed tripwire\" is \"Y\"\n",
    "filtered_tripwire_df = tripwire_df[tripwire_df[\"SES Y/N - recommend allowing to exceed tripwire\"] == \"Y\"]"
   ]
  },
  {
   "cell_type": "code",
   "execution_count": null,
   "id": "6603e1d2-d1f9-459b-973d-39667f1321ac",
   "metadata": {},
   "outputs": [],
   "source": [
    "# Find names in hourly_cost_df where \"Above Tripwire Rate?\" is \"Yes\"\n",
    "names_above_tripwire = hourly_cost_df[hourly_cost_df[\"Above Tripwire Rate?\"] == \"Yes\"][\"Name\"]"
   ]
  },
  {
   "cell_type": "code",
   "execution_count": null,
   "id": "c878c0d9-da08-4c21-a179-a9dd9c095d13",
   "metadata": {},
   "outputs": [],
   "source": [
    "# Find names in tripwire_df where \"SES Y/N - recommend allowing to exceed tripwire\" is \"Y\"\n",
    "names_allow_exceed_tripwire = filtered_tripwire_df[filtered_tripwire_df[\"SES Y/N - recommend allowing to exceed tripwire\"] == \"Y\"][\"Employee Name\"]"
   ]
  },
  {
   "cell_type": "code",
   "execution_count": null,
   "id": "40f6d39c-033e-4707-a931-50e27b94f1a0",
   "metadata": {},
   "outputs": [],
   "source": [
    "# Find names in hourly_cost_df that are not in tripwire_df\n",
    "names_not_in_tripwire = names_above_tripwire[~names_above_tripwire.isin(names_allow_exceed_tripwire)]"
   ]
  },
  {
   "cell_type": "markdown",
   "id": "ae8fbe3b-a94b-4f6c-abed-4d7582930321",
   "metadata": {},
   "source": [
    "# Mapping of LCAT"
   ]
  },
  {
   "cell_type": "code",
   "execution_count": null,
   "id": "839ae994-8c86-49b8-8cfb-6c9a313760d6",
   "metadata": {},
   "outputs": [],
   "source": [
    "# Remove newline characters from the \"PLC Desc\" column in hourly_cost_df\n",
    "hourly_cost_df[\"PLC Desc\"] = hourly_cost_df[\"PLC Desc\"].str.strip()\n",
    "\n",
    "# Create a dictionary to map \"Vendor LCATs\" to \"Correct LCAT Syntax\"\n",
    "lcat_mapping = lcat_df.set_index(\"Vendor LCATs\")[\"Correct LCAT Syntax\"].to_dict()\n",
    "\n",
    "# Map the \"PLC Desc\" column in hourly_cost_df to get corrected LCAT syntax\n",
    "hourly_cost_df[\"Correct LCAT Syntax\"] = hourly_cost_df[\"PLC Desc\"].map(lcat_mapping)"
   ]
  },
  {
   "cell_type": "markdown",
   "id": "59181400-a4bc-4274-a426-5c310faf3dfd",
   "metadata": {},
   "source": [
    "# Filter again"
   ]
  },
  {
   "cell_type": "code",
   "execution_count": null,
   "id": "f09af176-40c7-4272-a5c6-b431a322b997",
   "metadata": {},
   "outputs": [],
   "source": [
    "# Filter names in hourly_cost_df that are not in tripwire_df\n",
    "filtered_hourly_cost_df = hourly_cost_df[hourly_cost_df[\"Name\"].isin(names_not_in_tripwire)]"
   ]
  },
  {
   "cell_type": "markdown",
   "id": "7e32f90b-2986-4a12-8eb9-1b8414e38310",
   "metadata": {},
   "source": [
    "# Output"
   ]
  },
  {
   "cell_type": "code",
   "execution_count": null,
   "id": "f9c58ddb-5c27-4bd2-86da-ef6cccb92c2d",
   "metadata": {},
   "outputs": [],
   "source": [
    "# Create result_df with the desired columns, including PLC Desc and Correct LCAT Syntax\n",
    "result_df = filtered_hourly_cost_df[[\"Name\", \"PLC Desc\", \"Correct LCAT Syntax\", \"Hourly Cost $/hr\", \"Above Tripwire Rate?\"]]\n",
    "\n",
    "# Print the resulting DataFrame\n",
    "result_df"
   ]
  },
  {
   "cell_type": "code",
   "execution_count": null,
   "id": "acc58c22-f6b8-4bc0-bb68-e2b2ea716f3b",
   "metadata": {},
   "outputs": [],
   "source": []
  },
  {
   "cell_type": "code",
   "execution_count": null,
   "id": "30cf61f8-8ea4-41fd-a06d-a7f0597b3372",
   "metadata": {},
   "outputs": [],
   "source": []
  }
 ],
 "metadata": {
  "kernelspec": {
   "display_name": "Teams Env",
   "language": "python",
   "name": "teamenv"
  },
  "language_info": {
   "codemirror_mode": {
    "name": "ipython",
    "version": 3
   },
   "file_extension": ".py",
   "mimetype": "text/x-python",
   "name": "python",
   "nbconvert_exporter": "python",
   "pygments_lexer": "ipython3",
   "version": "3.10.11"
  }
 },
 "nbformat": 4,
 "nbformat_minor": 5
}
